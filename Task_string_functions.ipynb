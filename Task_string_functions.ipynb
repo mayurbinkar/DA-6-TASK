{
 "cells": [
  {
   "cell_type": "markdown",
   "id": "83203cbc-48b3-440a-90a2-a980b01017fb",
   "metadata": {},
   "source": [
    "## Task write all string functions with example \n"
   ]
  },
  {
   "cell_type": "markdown",
   "id": "2912ccff-57f3-4b6e-8a6e-2bea9e6cd052",
   "metadata": {},
   "source": [
    " Method\tDescription\r",
    " \n",
    "capitalize()\tConverts the first character to upper cas,e \r\n",
    "casefold()\tConverts string into lower ca,s e\r\n",
    "center()\tReturns a centered str\n",
    "ng\r\n",
    "count()\tReturns the number of times a specified value occurs in a st,r# \n",
    "ing\r\n",
    "encode()\tReturns an encoded version of the s,t ring\r\n",
    "endswith()\tReturns true if the string ends with the specified, value\r\n",
    "expandtabs()\tSets the tab size of the, string\r\n",
    "find()\tSearches the string for a specified value and returns the position of where it w,as found\r\n",
    "format()\tFormats specified values in, a string\r\n",
    "format_map()\tFormats specified values i,n a string\r\n",
    "index()\tSearches the string for a specified value and returns the position of where i,t was found\r\n",
    "isalnum()\tReturns True if all characters in the string are ,alphanumeric\r\n",
    "isalpha()\tReturns True if all characters in the string are in, the alphabet\r\n",
    "isascii()\tReturns True if all characters in the string are as,cii characters\r\n",
    "isdecimal()\tReturns True if all characters in the stri,ng are decimals\r\n",
    "isdigit()\tReturns True if all characters in the s,tring are digits\r\n",
    "isidentifier()\tReturns True if the string, is an identifier\r\n",
    "islower()\tReturns True if all characters in the str,ing are lower case\r\n",
    "isnumeric()\tReturns True if all characters in the, string are numeric\r\n",
    "isprintable()\tReturns True if all characters in the ,string are printable\r\n",
    "isspace()\tReturns True if all characters in the s,tring are whitespaces\r\n",
    "istitle()\tReturns True if the string follow,s the rules of a title\r\n",
    "isupper()\tReturns True if all characters in th,e string are upper case\r\n",
    "join()\tConverts the elements of a,n iterable into a string\r\n",
    "ljust()\tReturns a left justif,ied version of the string\r\n",
    "lower()\tConvert,s a string into lower case\r\n",
    "lstrip()\tReturns a left, trim version of the string\r\n",
    "maketrans()\tReturns a translation tabl,e to be used in translations\r\n",
    "partition()\tReturns a tuple where the stri,ng is parted into three parts\r\n",
    "replace()\tReturns a string where a specified value is r,eplaced with a specified value\r\n",
    "rfind()\tSearches the string for a specified value and returns the last, position of where it was found\r\n",
    "rindex()\tSearches the string for a specified value and returns the las,t position of where it was found\r\n",
    "rjust()\tReturns a righ,t justified version of the string\r\n",
    "rpartition()\tReturns a tuple where the, string is parted into three parts\r\n",
    "rsplit()\tSplits the string at the spec,ified separator, and returns a list\r\n",
    "rstrip()\tReturn,s a right trim version of the string\r\n",
    "split()\tSplits the string at the sp,ecified separator, and returns a list\r\n",
    "splitlines()\tSplits the st,ring at line breaks and returns a list\r\n",
    "startswith()\tReturns true if the, string starts with the specified value\r\n",
    "strip(),\tReturns a trimmed version of the string\r\n",
    "swapcase()\tSwaps cases, low,er case becomes upper case and vice versa\r\n",
    "title()\tConverts the ,first character of each word to upper ca,se\r\n",
    "translate()\tReturns a translated strin,g\r\n",
    "upper()\tConverts a string into upper case\r\n",
    "zfill()\tFills the string with a ,specified number of 0 values at the beginning"
   ]
  },
  {
   "cell_type": "code",
   "execution_count": 23,
   "id": "7fe9b8ba-feab-480d-888e-dd709f4afae3",
   "metadata": {},
   "outputs": [
    {
     "name": "stdout",
     "output_type": "stream",
     "text": [
      "Rohit lift the trophy\n",
      "sentence = Rohit lift the trophy\n"
     ]
    }
   ],
   "source": [
    "# 1 capitalize()\n",
    "\n",
    "sentence1 = \"rohit lift the trophy\"\n",
    "print(sentence1.capitalize())\n",
    "print(f'sentence = {sentence1.capitalize()}')"
   ]
  },
  {
   "cell_type": "code",
   "execution_count": 9,
   "id": "0397459c-ecf3-46f9-bc97-b860e5e4100e",
   "metadata": {},
   "outputs": [
    {
     "name": "stdout",
     "output_type": "stream",
     "text": [
      "virat kohli is a face of cricket world\n",
      "sentence = virat kohli is a face of cricket world\n"
     ]
    }
   ],
   "source": [
    "# 2 casefold()\n",
    "\n",
    "sentence2 = \"Virat Kohli is a face of cricket world\"\n",
    "print(sentence2.casefold())\n",
    "print(f'sentence = {sentence2.casefold()}')"
   ]
  },
  {
   "cell_type": "code",
   "execution_count": 16,
   "id": "eb6beea7-7c65-4aae-909d-14299313b529",
   "metadata": {},
   "outputs": [
    {
     "name": "stdout",
     "output_type": "stream",
     "text": [
      "4\n",
      "count of s = 4\n"
     ]
    }
   ],
   "source": [
    "# 3 count()\n",
    "\n",
    "sentence3 = \"messi and ronaldo are bestfriends off the field\"\n",
    "print(sentence3.count(\"s\"))\n",
    "print(f'count of s = {sentence3.count(\"s\")}')"
   ]
  },
  {
   "cell_type": "code",
   "execution_count": 22,
   "id": "fd9a6516-7845-4128-8e09-4912b7bd8608",
   "metadata": {},
   "outputs": [
    {
     "name": "stdout",
     "output_type": "stream",
     "text": [
      "           football is a legendery game           \n",
      "result =            football is a legendery game           \n"
     ]
    }
   ],
   "source": [
    "# 4 center()\n",
    "\n",
    "sentence4 = \"football is a legendery game\"\n",
    "print(sentence4.center(50))\n",
    "print(f'result = {sentence4.center(50)}')"
   ]
  },
  {
   "cell_type": "code",
   "execution_count": 27,
   "id": "5dbd10c7-ca63-41aa-bde8-02c4ce4612e0",
   "metadata": {},
   "outputs": [
    {
     "name": "stdout",
     "output_type": "stream",
     "text": [
      "b'python is programming language'\n",
      "result = b'python is programming language'\n"
     ]
    }
   ],
   "source": [
    "# 5 encode()\n",
    "\n",
    "sentence5 = \"python is programming language\"\n",
    "print(sentence5.encode())\n",
    "print(f'result = {sentence5.encode()}')"
   ]
  },
  {
   "cell_type": "code",
   "execution_count": 31,
   "id": "fabf36c8-9424-4b62-b4b2-d7561152b97c",
   "metadata": {},
   "outputs": [
    {
     "name": "stdout",
     "output_type": "stream",
     "text": [
      "False\n",
      "result = True\n"
     ]
    }
   ],
   "source": [
    "# 6 endswith()\n",
    "\n",
    "sentence6 = \"Dale steyn is Goat\"\n",
    "print(sentence6.endswith(\"steyn\"))\n",
    "print(f'result = {sentence6.endswith(\"Goat\")}')"
   ]
  },
  {
   "cell_type": "code",
   "execution_count": 39,
   "id": "28f41311-73f0-4318-9069-04bbb9810102",
   "metadata": {},
   "outputs": [
    {
     "ename": "SyntaxError",
     "evalue": "(unicode error) 'unicodeescape' codec can't decode bytes in position 12-13: malformed \\N character escape (4248148282.py, line 3)",
     "output_type": "error",
     "traceback": [
      "\u001b[1;36m  Cell \u001b[1;32mIn[39], line 3\u001b[1;36m\u001b[0m\n\u001b[1;33m    sentence7 = \"Ms\\Dhoni\\was\\No\\1\\batsman\\in/2009\"\u001b[0m\n\u001b[1;37m                                                   ^\u001b[0m\n\u001b[1;31mSyntaxError\u001b[0m\u001b[1;31m:\u001b[0m (unicode error) 'unicodeescape' codec can't decode bytes in position 12-13: malformed \\N character escape\n"
     ]
    }
   ],
   "source": [
    "# 7 expandtabs()\n",
    "\n",
    "sentence7 = \"Ms\\Dhoni\\was\\No\\1\\batsman\\in/2009\"\n",
    "print(sentence7.expandtabs(4))"
   ]
  },
  {
   "cell_type": "code",
   "execution_count": 45,
   "id": "7b2d7851-6f67-43ac-8a97-c624eeb70cf1",
   "metadata": {},
   "outputs": [
    {
     "name": "stdout",
     "output_type": "stream",
     "text": [
      "21\n",
      "result = 5\n"
     ]
    }
   ],
   "source": [
    "# 8 find()\n",
    "\n",
    "sentence8 = \"I am enrolled for DA 6\"\n",
    "print(sentence8.find(\"6\"))\n",
    "print(f'result = {sentence8.find(\"enrolled\")}')"
   ]
  },
  {
   "cell_type": "code",
   "execution_count": 47,
   "id": "8d3dda9e-a1b3-417f-b04d-549038aef981",
   "metadata": {},
   "outputs": [
    {
     "name": "stdout",
     "output_type": "stream",
     "text": [
      "Variable is nothing but a conatainer who stores temporary data\n",
      "result = Variable is nothing but a container who stores temporary data\n"
     ]
    }
   ],
   "source": [
    "# 9 format()\n",
    "\n",
    "sentence9 = \"Variable is nothing but a {} who stores temporary data\"\n",
    "print(sentence9.format(\"conatainer\"))\n",
    "print(f'result = {sentence9.format(\"container\")}')"
   ]
  },
  {
   "cell_type": "code",
   "execution_count": 52,
   "id": "6c5f958a-c0e2-4c2a-8e2f-4a48bffaaaf5",
   "metadata": {},
   "outputs": [
    {
     "name": "stdout",
     "output_type": "stream",
     "text": [
      "Python is high-level programming language\n",
      "result = Python is high-level programming language\n"
     ]
    }
   ],
   "source": [
    "# 10 format_map()\n",
    "\n",
    "sentence10 = \"Python is {language} programming language\"\n",
    "print(sentence10.format_map({\"language\":\"high-level\"}))\n",
    "print(f'result = {sentence10.format_map({\"language\":\"high-level\"})}')"
   ]
  },
  {
   "cell_type": "code",
   "execution_count": 57,
   "id": "7babb470-12e4-40f6-9af2-a3dde9a441a2",
   "metadata": {},
   "outputs": [
    {
     "name": "stdout",
     "output_type": "stream",
     "text": [
      "0\n",
      "result = 3\n"
     ]
    }
   ],
   "source": [
    "# 11 index()\n",
    "\n",
    "sentence11 = \"DA-6\"\n",
    "print(sentence11.index(\"D\"))\n",
    "print(f'result = {sentence11.index(\"6\")}')"
   ]
  },
  {
   "cell_type": "code",
   "execution_count": 61,
   "id": "598e64da-c469-43cd-b7ed-c44019067e8d",
   "metadata": {},
   "outputs": [
    {
     "name": "stdout",
     "output_type": "stream",
     "text": [
      "True False\n",
      "result = (True, False)\n"
     ]
    }
   ],
   "source": [
    "# 12 isalnum()\n",
    "\n",
    "sentence12 = \"ArcDA6\"\n",
    "sentence12_a = \"Arc DA 6\"\n",
    "print(sentence12.isalnum(),sentence12_a.isalnum())\n",
    "print(f'result = {sentence12.isalnum(),sentence12_a.isalnum()}')"
   ]
  },
  {
   "cell_type": "code",
   "execution_count": 64,
   "id": "12043e0d-1544-4b0d-9261-ea49ccfe4705",
   "metadata": {},
   "outputs": [
    {
     "name": "stdout",
     "output_type": "stream",
     "text": [
      "True False\n",
      "result = (True, False)\n"
     ]
    }
   ],
   "source": [
    "# 13 isalpha()\n",
    "\n",
    "sentence13 = \"Ironman\"\n",
    "\n",
    "print(sentence13.isalpha(),sentence12_a.isalpha())\n",
    "print(f'result = {sentence13.isalpha(),sentence12_a.isalpha()}')"
   ]
  },
  {
   "cell_type": "code",
   "execution_count": 66,
   "id": "466f5531-c446-487c-bdaf-6af39f35b6e1",
   "metadata": {},
   "outputs": [
    {
     "name": "stdout",
     "output_type": "stream",
     "text": [
      "True\n",
      "result = True\n"
     ]
    }
   ],
   "source": [
    "# 14 isascii()\n",
    "\n",
    "sentence14 = \"binary-code-011\"\n",
    "print(sentence14.isascii())\n",
    "print(f'result = {sentence14.isascii()}')"
   ]
  },
  {
   "cell_type": "code",
   "execution_count": 69,
   "id": "9e41beba-44df-4db9-b01f-ad48eb0ed99b",
   "metadata": {},
   "outputs": [
    {
     "name": "stdout",
     "output_type": "stream",
     "text": [
      "True\n",
      "False\n",
      "result = True\n"
     ]
    }
   ],
   "source": [
    "# 15 isdecimal()\n",
    "sentence15 = \"01082003\"\n",
    "print(sentence15.isdigit())\n",
    "print(sentence14.isdigit())\n",
    "print(f'result = {sentence15.isdigit()}')"
   ]
  },
  {
   "cell_type": "code",
   "execution_count": 76,
   "id": "862e85eb-fecd-424d-b55b-f77018c74e42",
   "metadata": {},
   "outputs": [
    {
     "name": "stdout",
     "output_type": "stream",
     "text": [
      "True\n",
      "False\n",
      "result = True\n"
     ]
    }
   ],
   "source": [
    "# 16 isidentifier()\n",
    "sentence16 = \"array_of_element\"\n",
    "print(sentence16.isidentifier())\n",
    "print(sentence15.isidentifier())\n",
    "print(f'result = {sentence16.isidentifier()}')"
   ]
  },
  {
   "cell_type": "code",
   "execution_count": 81,
   "id": "cc4fa95f-d595-4bdb-b741-e4f38cd64814",
   "metadata": {},
   "outputs": [
    {
     "name": "stdout",
     "output_type": "stream",
     "text": [
      "False\n",
      "True\n",
      "result = False\n"
     ]
    }
   ],
   "source": [
    "# 17 islower()\n",
    "sentence17 = \"ARC TECHNOLOGY\"\n",
    "print(sentence17.islower())\n",
    "print(sentence16.islower())\n",
    "print(f'result = {sentence17.islower()}')"
   ]
  },
  {
   "cell_type": "code",
   "execution_count": 82,
   "id": "5e46cd72-bbb2-4b48-b684-6cbf4013a753",
   "metadata": {},
   "outputs": [
    {
     "name": "stdout",
     "output_type": "stream",
     "text": [
      "True\n",
      "result = True\n"
     ]
    }
   ],
   "source": [
    "# 18 isupper\n",
    "sentence18 = \"CALL OF DUTY\"\n",
    "print(sentence18.isupper())\n",
    "print(f'result = {sentence18.isupper()}')"
   ]
  },
  {
   "cell_type": "code",
   "execution_count": 94,
   "id": "4b634191-7de3-4738-8b2e-ce1a80b65fa0",
   "metadata": {},
   "outputs": [
    {
     "name": "stdout",
     "output_type": "stream",
     "text": [
      "False\n"
     ]
    }
   ],
   "source": [
    "# 19 isnumeric()\n",
    "sentence19 = \"3/4\"     #doubtfull\n",
    "print(sentence19.isnumeric())"
   ]
  },
  {
   "cell_type": "code",
   "execution_count": 89,
   "id": "19d66e75-dbfa-4072-a986-79194c48e5e7",
   "metadata": {},
   "outputs": [
    {
     "name": "stdout",
     "output_type": "stream",
     "text": [
      "True\n"
     ]
    }
   ],
   "source": [
    "# 20 isprintable()\n",
    "\n",
    "sentence20 = \"print_result\"\n",
    "print(sentence20.isprintable())"
   ]
  },
  {
   "cell_type": "code",
   "execution_count": 93,
   "id": "5f5d31e2-5456-47ba-a083-20aa761b73aa",
   "metadata": {},
   "outputs": [
    {
     "name": "stdout",
     "output_type": "stream",
     "text": [
      "False\n"
     ]
    }
   ],
   "source": [
    "# 21 isspace()\n",
    "sentence21 = \"  Today is  ENG vs IND semifinal  \"   #\"   \" whitespace\n",
    "print(sentence21.isspace())"
   ]
  },
  {
   "cell_type": "code",
   "execution_count": 96,
   "id": "bcc4b0e2-6f62-4a38-b1ad-4d3e68b7b494",
   "metadata": {},
   "outputs": [
    {
     "name": "stdout",
     "output_type": "stream",
     "text": [
      "True\n",
      "False\n"
     ]
    }
   ],
   "source": [
    "# 22 istitle()\n",
    "sentence22 = \"The Avengers\"\n",
    "print(sentence22.istitle())\n",
    "print(sentence20.istitle())"
   ]
  },
  {
   "cell_type": "code",
   "execution_count": null,
   "id": "25f1ee6d-758a-456c-a6f4-4b3ccb62af76",
   "metadata": {},
   "outputs": [],
   "source": []
  }
 ],
 "metadata": {
  "kernelspec": {
   "display_name": "Python 3 (ipykernel)",
   "language": "python",
   "name": "python3"
  },
  "language_info": {
   "codemirror_mode": {
    "name": "ipython",
    "version": 3
   },
   "file_extension": ".py",
   "mimetype": "text/x-python",
   "name": "python",
   "nbconvert_exporter": "python",
   "pygments_lexer": "ipython3",
   "version": "3.11.7"
  }
 },
 "nbformat": 4,
 "nbformat_minor": 5
}
