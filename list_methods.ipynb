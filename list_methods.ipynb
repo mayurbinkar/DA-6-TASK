{
 "cells": [
  {
   "cell_type": "markdown",
   "id": "0382f717-f9b2-47bb-8a6d-7617ede112cc",
   "metadata": {},
   "source": [
    "##  LIST METHODS"
   ]
  },
  {
   "cell_type": "code",
   "execution_count": 13,
   "id": "397eb4e4-2ad3-4639-8d1c-24017353182f",
   "metadata": {},
   "outputs": [],
   "source": [
    "li = [1,2,3,4,5,6,7,8,9]"
   ]
  },
  {
   "cell_type": "code",
   "execution_count": 14,
   "id": "0c206f60-bdc2-4211-b2d3-e2bcefcf29bc",
   "metadata": {},
   "outputs": [
    {
     "data": {
      "text/plain": [
       "[1, 2, 3, 4, 5, 6, 7, 8, 9]"
      ]
     },
     "execution_count": 14,
     "metadata": {},
     "output_type": "execute_result"
    }
   ],
   "source": [
    "li"
   ]
  },
  {
   "cell_type": "code",
   "execution_count": 4,
   "id": "3235f226-c8fc-4527-b417-c636a90265c3",
   "metadata": {},
   "outputs": [],
   "source": [
    "li_str = ['apple','mango','banana','orange']"
   ]
  },
  {
   "cell_type": "code",
   "execution_count": 5,
   "id": "e5ca5386-dcf9-4899-b219-bcaaf0402efa",
   "metadata": {},
   "outputs": [
    {
     "data": {
      "text/plain": [
       "['apple', 'mango', 'banana', 'orange']"
      ]
     },
     "execution_count": 5,
     "metadata": {},
     "output_type": "execute_result"
    }
   ],
   "source": [
    "li_str"
   ]
  },
  {
   "cell_type": "code",
   "execution_count": 6,
   "id": "491b3c0d-654c-47a0-8479-6e887a6e9268",
   "metadata": {},
   "outputs": [],
   "source": [
    "list_mix  = [1,'a','b',2,3,'c']"
   ]
  },
  {
   "cell_type": "code",
   "execution_count": 7,
   "id": "def89263-9aad-414a-8cbb-9f1683b140e4",
   "metadata": {},
   "outputs": [
    {
     "data": {
      "text/plain": [
       "[1, 'a', 'b', 2, 3, 'c']"
      ]
     },
     "execution_count": 7,
     "metadata": {},
     "output_type": "execute_result"
    }
   ],
   "source": [
    "list_mix"
   ]
  },
  {
   "cell_type": "code",
   "execution_count": 21,
   "id": "23838d4b-92fc-4037-8b3d-9021ac61b96c",
   "metadata": {},
   "outputs": [
    {
     "name": "stdout",
     "output_type": "stream",
     "text": [
      "result=[1, 2, 3, 4, 5, 6, 7, 8, 9, 10, 10]\n",
      "result2=['apple', 'mango', 'banana', 'orange', 'pinapple']\n"
     ]
    }
   ],
   "source": [
    "# 1 append()\tAdds an element at the end of the list\n",
    "li.append(10)\n",
    "li_str.append('pinapple')\n",
    "#li.remove([10,12])\n",
    "print(f'result={li}')\n",
    "print(f'result2={li_str}')"
   ]
  },
  {
   "cell_type": "code",
   "execution_count": 23,
   "id": "aac10ea7-0ab7-4b4b-9ab0-27a1b4875285",
   "metadata": {},
   "outputs": [
    {
     "name": "stdout",
     "output_type": "stream",
     "text": [
      "result=[]\n"
     ]
    }
   ],
   "source": [
    "# 2 clear()\tRemoves all the elements from the list\n",
    "li_2 = [10,20,30,410]\n",
    "li_2.clear()\n",
    "print(f'result={li_2}')"
   ]
  },
  {
   "cell_type": "code",
   "execution_count": 26,
   "id": "3dcab010-3b8a-4bad-b29d-7a492bb596d2",
   "metadata": {},
   "outputs": [
    {
     "name": "stdout",
     "output_type": "stream",
     "text": [
      "li_3 = [1, 2, 3, 4, 5, 6, 7, 8, 9, 10, 10]\n"
     ]
    }
   ],
   "source": [
    "# 3 copy()\tReturns a copy of the list\n",
    "li_3=li.copy()\n",
    "print(f'li_3 = {li_3}')"
   ]
  },
  {
   "cell_type": "code",
   "execution_count": 37,
   "id": "3083dc4a-16cf-4faf-8fbd-1b0d390b1c7f",
   "metadata": {},
   "outputs": [
    {
     "name": "stdout",
     "output_type": "stream",
     "text": [
      "result=2\n"
     ]
    }
   ],
   "source": [
    "# 4 count()\tReturns the number of elements with the specified value\n",
    "li_4=li_3.count(10)\n",
    "print(f'result={li_4}')"
   ]
  },
  {
   "cell_type": "code",
   "execution_count": 40,
   "id": "423a5870-4c0b-47ef-8e46-1b979a6f0b9b",
   "metadata": {},
   "outputs": [
    {
     "name": "stdout",
     "output_type": "stream",
     "text": [
      "result=[10, 20, 30, 40, 50, 1, 2, 3, 4, 5, 6, 7, 8, 9, 10, 10]\n"
     ]
    }
   ],
   "source": [
    "# 5 extend()\tAdd the elements of a list (or any iterable), to the end of the current list\n",
    "li = [10,20,30,40,50]\n",
    "li.extend(li_3)\n",
    "print(f'result={li}')"
   ]
  },
  {
   "cell_type": "code",
   "execution_count": 43,
   "id": "534c0ee3-af4e-4ec1-a55f-145881048533",
   "metadata": {},
   "outputs": [
    {
     "name": "stdout",
     "output_type": "stream",
     "text": [
      "result=4\n"
     ]
    }
   ],
   "source": [
    "# 6 index()\tReturns the index of the first element with the specified value\n",
    "result = li.index(50)\n",
    "print(f'result={result}')"
   ]
  },
  {
   "cell_type": "code",
   "execution_count": 49,
   "id": "78723cad-f9c6-4895-a628-861690ee54f7",
   "metadata": {},
   "outputs": [
    {
     "name": "stdout",
     "output_type": "stream",
     "text": [
      "result=[1, 2, 3, 4, 5, 6, 7, 8, 9, 22, 10, 10, 11, 11, 3, 11]\n"
     ]
    }
   ],
   "source": [
    "# 7 insert()\tAdds an element at the specified position\n",
    "li_3.insert(9,22)\n",
    "print(f'result={li_3}')"
   ]
  },
  {
   "cell_type": "code",
   "execution_count": 51,
   "id": "1f8b5025-abde-4e1b-a660-70394ee6b091",
   "metadata": {},
   "outputs": [
    {
     "name": "stdout",
     "output_type": "stream",
     "text": [
      "[1, 2, 3, 4, 5, 6, 7, 8, 9, 22, 10, 10, 11, 11, 3, 11]\n"
     ]
    }
   ],
   "source": [
    "print(li_3)"
   ]
  },
  {
   "cell_type": "code",
   "execution_count": 53,
   "id": "43b609e4-f665-4c8c-a817-6e438268cb06",
   "metadata": {},
   "outputs": [
    {
     "name": "stdout",
     "output_type": "stream",
     "text": [
      "result=[1, 2, 3, 4, 5, 6, 7, 8, 9, 22, 10, 11, 11, 3, 11]\n"
     ]
    }
   ],
   "source": [
    "# 8 pop()\tRemoves the element at the specified position\n",
    "li_3.pop(10)\n",
    "print(f'result={li_3}')"
   ]
  },
  {
   "cell_type": "code",
   "execution_count": 55,
   "id": "1bcd3be4-3e7a-4dd6-9dc0-2a80d44430e3",
   "metadata": {},
   "outputs": [
    {
     "name": "stdout",
     "output_type": "stream",
     "text": [
      "result=['apple', 'banana', 'orange', 'pinapple']\n"
     ]
    }
   ],
   "source": [
    "# 9 remove()\tRemoves the first item with the specified value\n",
    "li_str.remove('mango')\n",
    "print(f'result={li_str}')"
   ]
  },
  {
   "cell_type": "code",
   "execution_count": 57,
   "id": "26c168df-59f3-4ef0-b858-08d382b48060",
   "metadata": {},
   "outputs": [
    {
     "name": "stdout",
     "output_type": "stream",
     "text": [
      "result=[11, 3, 11, 11, 10, 22, 9, 8, 7, 6, 5, 4, 3, 2, 1]\n"
     ]
    }
   ],
   "source": [
    "# 10 reverse()\tReverses the order of the list\n",
    "li_3.reverse()\n",
    "print(f'result={li_3}')"
   ]
  },
  {
   "cell_type": "code",
   "execution_count": 59,
   "id": "ac7f5ac9-5bab-4af3-bff7-3e6eee22b74e",
   "metadata": {},
   "outputs": [
    {
     "name": "stdout",
     "output_type": "stream",
     "text": [
      "result=[1, 50, 69, 70, 89, 100]\n"
     ]
    }
   ],
   "source": [
    "li_5=[89,70,100,1,50,69]\n",
    "li_5.sort()\n",
    "print(f'result={li_5}')"
   ]
  },
  {
   "cell_type": "code",
   "execution_count": null,
   "id": "2193dbc8-99d0-4cc1-9053-a000f7ff987b",
   "metadata": {},
   "outputs": [],
   "source": []
  }
 ],
 "metadata": {
  "kernelspec": {
   "display_name": "Python 3 (ipykernel)",
   "language": "python",
   "name": "python3"
  },
  "language_info": {
   "codemirror_mode": {
    "name": "ipython",
    "version": 3
   },
   "file_extension": ".py",
   "mimetype": "text/x-python",
   "name": "python",
   "nbconvert_exporter": "python",
   "pygments_lexer": "ipython3",
   "version": "3.11.7"
  }
 },
 "nbformat": 4,
 "nbformat_minor": 5
}
